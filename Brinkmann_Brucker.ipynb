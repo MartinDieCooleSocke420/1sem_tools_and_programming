{
 "cells": [
  {
   "cell_type": "markdown",
   "metadata": {},
   "source": [
    "# Assignment for Tools and Programming\n",
    "\n",
    "This Assignment was created by:\n",
    "Martin Brucker and Frederik Brinkmann\n",
    "\n",
    "Deadline: 26.10.2023 11:59PM"
   ]
  },
  {
   "cell_type": "code",
   "execution_count": 2,
   "metadata": {},
   "outputs": [],
   "source": [
    "import pandas as pd\n",
    "import numpy as np"
   ]
  },
  {
   "cell_type": "code",
   "execution_count": 3,
   "metadata": {},
   "outputs": [],
   "source": [
    "# importing data from files\n",
    "\n",
    "results = pd.read_csv(\"data/results.csv\")\n",
    "athletes = pd.read_csv(filepath_or_buffer=\"data/athletes.txt\", sep=\";\")"
   ]
  },
  {
   "cell_type": "code",
   "execution_count": 4,
   "metadata": {},
   "outputs": [],
   "source": [
    "merged_results_athletes = pd.merge(left = athletes, right = results, how=\"inner\")"
   ]
  },
  {
   "cell_type": "markdown",
   "metadata": {},
   "source": [
    "#### Exercise 1\n",
    "- What is the name of the most successful athlete since 2012, as measured by the number of gold\n",
    "medals?"
   ]
  },
  {
   "cell_type": "code",
   "execution_count": 6,
   "metadata": {},
   "outputs": [
    {
     "name": "stdout",
     "output_type": "stream",
     "text": [
      "name\n",
      "Michael•Phelps           23\n",
      "Carl•Lewis                9\n",
      "Paavo•Nurmi               9\n",
      "Mark•Spitz                9\n",
      "Larisa•Latynina           9\n",
      "                         ..\n",
      "Heinrich•Schomburgk       1\n",
      "Michael•Stich             1\n",
      "Fritz•Traun               1\n",
      "Paige•Hauschild           1\n",
      "Stephania•Haralabidis     1\n",
      "Name: count, Length: 10874, dtype: int64\n"
     ]
    }
   ],
   "source": [
    "gold_medals_df = merged_results_athletes[merged_results_athletes['medal'] == 'Gold']\n",
    "gold_medals_count = gold_medals_df['name'].value_counts()\n",
    "print(gold_medals_count)"
   ]
  },
  {
   "cell_type": "markdown",
   "metadata": {},
   "source": [
    "As we can see, Michael Phelps won the most gold Medals with a count of 23"
   ]
  },
  {
   "cell_type": "markdown",
   "metadata": {},
   "source": [
    "- How many different athletes have participates in the Olympic Games since 2012?"
   ]
  },
  {
   "cell_type": "code",
   "execution_count": 10,
   "metadata": {},
   "outputs": [
    {
     "data": {
      "text/plain": [
       "athlete         29655\n",
       "name            29518\n",
       "sex                 2\n",
       "born            27730\n",
       "died               58\n",
       "affiliations    12526\n",
       "title               7\n",
       "measurements     2698\n",
       "year                5\n",
       "season              2\n",
       "sport              64\n",
       "discipline        382\n",
       "pos               139\n",
       "medal               3\n",
       "country           210\n",
       "country_code      210\n",
       "team             3910\n",
       "dtype: int64"
      ]
     },
     "execution_count": 10,
     "metadata": {},
     "output_type": "execute_result"
    }
   ],
   "source": [
    "since2012 = merged_results_athletes[merged_results_athletes['year'] >= 2012]\n",
    "since2012.nunique()"
   ]
  },
  {
   "cell_type": "markdown",
   "metadata": {},
   "source": [
    "as we can see there are 29655 unquie athleets since 2012"
   ]
  },
  {
   "cell_type": "markdown",
   "metadata": {},
   "source": [
    "- What are the 10 countries with the lowest ratio of female participants? Represent this information using a bar chart"
   ]
  },
  {
   "cell_type": "code",
   "execution_count": null,
   "metadata": {},
   "outputs": [],
   "source": []
  }
 ],
 "metadata": {
  "kernelspec": {
   "display_name": ".venv",
   "language": "python",
   "name": "python3"
  },
  "language_info": {
   "codemirror_mode": {
    "name": "ipython",
    "version": 3
   },
   "file_extension": ".py",
   "mimetype": "text/x-python",
   "name": "python",
   "nbconvert_exporter": "python",
   "pygments_lexer": "ipython3",
   "version": "3.10.12"
  }
 },
 "nbformat": 4,
 "nbformat_minor": 2
}
