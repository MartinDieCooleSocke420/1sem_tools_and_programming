{
 "cells": [
  {
   "cell_type": "markdown",
   "metadata": {},
   "source": [
    "# Assignment for Tools and Programming\n",
    "\n",
    "This Assignment was created by:\n",
    "Martin Brucker and Frederik Brinkmann\n",
    "\n",
    "Deadline: 26.10.2023 11:59PM"
   ]
  },
  {
   "cell_type": "code",
   "execution_count": 2,
   "metadata": {},
   "outputs": [],
   "source": [
    "import pandas as pd\n",
    "import numpy as np"
   ]
  },
  {
   "cell_type": "code",
   "execution_count": 3,
   "metadata": {},
   "outputs": [],
   "source": [
    "# importing data from files\n",
    "\n",
    "results = pd.read_csv(\"data/results.csv\")\n",
    "athletes = pd.read_csv(filepath_or_buffer=\"data/athletes.txt\", sep=\";\")"
   ]
  },
  {
   "cell_type": "code",
   "execution_count": 4,
   "metadata": {},
   "outputs": [],
   "source": [
    "merged_results_athletes = pd.merge(left = athletes, right = results, how=\"inner\")"
   ]
  },
  {
   "cell_type": "markdown",
   "metadata": {},
   "source": [
    "#### Exercise 1\n",
    "- What is the name of the most successful athlete since 2012, as measured by the number of gold\n",
    "medals?"
   ]
  },
  {
   "cell_type": "code",
   "execution_count": 6,
   "metadata": {},
   "outputs": [
    {
     "name": "stdout",
     "output_type": "stream",
     "text": [
      "name\n",
      "Michael•Phelps           23\n",
      "Carl•Lewis                9\n",
      "Paavo•Nurmi               9\n",
      "Mark•Spitz                9\n",
      "Larisa•Latynina           9\n",
      "                         ..\n",
      "Heinrich•Schomburgk       1\n",
      "Michael•Stich             1\n",
      "Fritz•Traun               1\n",
      "Paige•Hauschild           1\n",
      "Stephania•Haralabidis     1\n",
      "Name: count, Length: 10874, dtype: int64\n"
     ]
    }
   ],
   "source": [
    "gold_medals_df = merged_results_athletes[merged_results_athletes['medal'] == 'Gold']\n",
    "gold_medals_count = gold_medals_df['name'].value_counts()\n",
    "print(gold_medals_count)"
   ]
  },
  {
   "cell_type": "markdown",
   "metadata": {},
   "source": [
    "As we can see, Michael Phelps won the most gold Medals with a count of 23"
   ]
  },
  {
   "cell_type": "markdown",
   "metadata": {},
   "source": [
    "- How many different athletes have participates in the Olympic Games since 2012?"
   ]
  }
 ],
 "metadata": {
  "kernelspec": {
   "display_name": ".venv",
   "language": "python",
   "name": "python3"
  },
  "language_info": {
   "codemirror_mode": {
    "name": "ipython",
    "version": 3
   },
   "file_extension": ".py",
   "mimetype": "text/x-python",
   "name": "python",
   "nbconvert_exporter": "python",
   "pygments_lexer": "ipython3",
   "version": "3.10.12"
  }
 },
 "nbformat": 4,
 "nbformat_minor": 2
}
