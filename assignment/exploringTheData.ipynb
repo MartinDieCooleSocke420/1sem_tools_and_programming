{
 "cells": [
  {
   "cell_type": "code",
   "execution_count": null,
   "metadata": {},
   "outputs": [],
   "source": [
    "import pandas as pd\n",
    "import numpy as np"
   ]
  },
  {
   "cell_type": "code",
   "execution_count": null,
   "metadata": {},
   "outputs": [],
   "source": [
    "results = pd.read_csv(\"data/results.csv\")"
   ]
  },
  {
   "cell_type": "code",
   "execution_count": null,
   "metadata": {},
   "outputs": [],
   "source": [
    "results "
   ]
  },
  {
   "cell_type": "code",
   "execution_count": null,
   "metadata": {},
   "outputs": [],
   "source": [
    "athletes = pd.read_csv(filepath_or_buffer=\"data/athletes.txt\", sep=\";\")\n",
    "\n",
    "athletes"
   ]
  },
  {
   "cell_type": "code",
   "execution_count": null,
   "metadata": {},
   "outputs": [],
   "source": [
    "merged = pd.merge(left = athletes, right = results, how=\"inner\")"
   ]
  },
  {
   "cell_type": "code",
   "execution_count": null,
   "metadata": {},
   "outputs": [],
   "source": [
    "# Setting index to name and born since this an unique way to identify\n",
    "merged.set_index([\"name\",\"born\"]).head()"
   ]
  },
  {
   "cell_type": "code",
   "execution_count": null,
   "metadata": {},
   "outputs": [],
   "source": [
    "merged[\"medal\"].describe()"
   ]
  },
  {
   "cell_type": "code",
   "execution_count": null,
   "metadata": {},
   "outputs": [],
   "source": [
    "\n",
    "merged.groupby('name')['medal'].sum()\n"
   ]
  },
  {
   "cell_type": "markdown",
   "metadata": {},
   "source": [
    "### Lösungsvariante 1 "
   ]
  },
  {
   "cell_type": "code",
   "execution_count": null,
   "metadata": {},
   "outputs": [],
   "source": [
    "gold_medals_df = merged[merged['medal'] == 'Gold']\n",
    "gold_medals_count = gold_medals_df['name'].value_counts()\n",
    "print(gold_medals_count)"
   ]
  },
  {
   "cell_type": "markdown",
   "metadata": {},
   "source": [
    "# Exercise 1 aufgabe 2"
   ]
  },
  {
   "cell_type": "code",
   "execution_count": null,
   "metadata": {},
   "outputs": [],
   "source": [
    "since2012 = merged[merged['year'] >= 2012]\n",
    "since2012.nunique()"
   ]
  },
  {
   "cell_type": "markdown",
   "metadata": {},
   "source": [
    "# Exerscice 1 Aufgabe 3\n",
    "\n",
    "1. Count se Sex == Female \n",
    "2. descending ( lowest country ) = true mäßig ( vllt reindex oder so )\n",
    "3. Iwie barchart lol \n",
    " "
   ]
  },
  {
   "cell_type": "code",
   "execution_count": null,
   "metadata": {},
   "outputs": [],
   "source": [
    "female = merged[merged['sex'] == \"Female\"]\n",
    "\n",
    "sexAndCountry = merged[[\"sex\", \"country\"]]\n",
    "female = sexAndCountry[sexAndCountry['sex'] == \"Female\"]\n",
    "male = sexAndCountry[sexAndCountry['sex'] == \"Male\"]\n",
    "beide = merged[[\"sex\", \"country\"]]"
   ]
  },
  {
   "cell_type": "code",
   "execution_count": null,
   "metadata": {},
   "outputs": [],
   "source": [
    "import pandas as pd\n",
    "import matplotlib.pyplot as plt\n",
    "\n",
    "# Assuming you have a DataFrame named 'merged' with relevant data\n",
    "# Replace 'merged' with your actual DataFrame name\n",
    "\n",
    "# Calculate the ratio of female participants for each country\n",
    "merged['Female Ratio'] = merged['sex']==\"Female\".count() / (merged['Female Participants'] + merged['Male Participants'])\n",
    "\n",
    "# Group by country and calculate the mean ratio for each country\n",
    "country_female_ratio = merged.groupby('Country')['Female Ratio'].mean()\n",
    "\n",
    "# Sort the countries based on the ratio in ascending order and select the lowest 10\n",
    "lowest_female_ratio_countries = country_female_ratio.sort_values().head(10)\n",
    "\n",
    "# Create a bar chart\n",
    "plt.figure(figsize=(12, 6))\n",
    "lowest_female_ratio_countries.plot(kind='bar', color='skyblue')\n",
    "plt.title('Top 10 Countries with Lowest Ratio of Female Participants')\n",
    "plt.xlabel('Country')\n",
    "plt.ylabel('Female Ratio')\n",
    "plt.xticks(rotation=45)\n",
    "plt.tight_layout()\n",
    "plt.show()\n"
   ]
  },
  {
   "cell_type": "code",
   "execution_count": null,
   "metadata": {},
   "outputs": [],
   "source": [
    "male_participants_count = merged[merged['sex'] == 'Male']\n",
    "female_participants_count = merged[merged['sex'] == 'Female']\n",
    "\n",
    "merged['Female Ratio'] = merged['sex'].apply(lambda x: 1 if x == 'Female' else 0)\n",
    "male_participants_count = merged[merged['sex'] == 'Male'].shape[0]\n",
    "\n",
    "print(\"Number of Male Participants:\", male_participants_count)\n",
    "\n",
    "\n"
   ]
  },
  {
   "cell_type": "code",
   "execution_count": null,
   "metadata": {},
   "outputs": [],
   "source": [
    "countries = merged[\"country\"].unique()"
   ]
  },
  {
   "cell_type": "code",
   "execution_count": null,
   "metadata": {},
   "outputs": [],
   "source": [
    "#Was brauchen wir? \n",
    "#Wie viele Frauen und Männer pro Country gibt \n",
    "perCountry = merged.groupby(['country', 'sex']).size().unstack(fill_value=0)\n",
    "#Den Frauenanteil berechnen \n",
    "perCountry['Female Percentage'] = (perCountry['Female'] / (perCountry['Female'] + perCountry['Male'])) * 100\n",
    "\n",
    "#perCountry[\"Fraunanteil\"] = perCountry[\"Female\"] + perCountry[\"Male\"]\n",
    "#Die letzen 10 ausgeben \n",
    "\n",
    "perCountry = perCountry.sort_values(\"Female Percentage\").head(10)\n",
    "\n",
    "\n",
    "plt.figure(figsize=(12, 6))\n",
    "perCountry[[\"Female Percentage\"]].plot(kind='bar', color='skyblue')\n",
    "plt.title('Top 10 Countries with Lowest Ratio of Female Participants')\n",
    "plt.xlabel('Country')\n",
    "plt.ylabel('Female Ratio')\n",
    "plt.xticks(rotation=45)\n",
    "plt.tight_layout()\n",
    "plt.show()"
   ]
  },
  {
   "cell_type": "markdown",
   "metadata": {},
   "source": [
    "Exploring Data\n",
    "What are the three most common firstnames of female athletes from the country ‘Republic of\n",
    "Korea’?"
   ]
  },
  {
   "cell_type": "code",
   "execution_count": null,
   "metadata": {},
   "outputs": [],
   "source": [
    "\n",
    "# Filter for female athletes from 'Republic of Korea'\n",
    "female_korean_athletes = merged[(merged['sex'] == 'Female') & (merged['country'] == 'Republic of Korea')]\n",
    "\n",
    "# Extract and isolate the first names\n",
    "female_korean_athletes['First Name'] = female_korean_athletes['name'].apply(lambda x: x.split('•')[0])\n",
    "\n",
    "# Count the occurrences of each first name\n",
    "common_first_names = female_korean_athletes['First Name'].value_counts().head(3)\n",
    "\n",
    "print(\"The three most common first names of female athletes from Republic of Korea:\")\n",
    "print(common_first_names)"
   ]
  },
  {
   "cell_type": "code",
   "execution_count": null,
   "metadata": {},
   "outputs": [],
   "source": [
    "female_korean_athletes = merged[(merged['sex'] == 'Female')]\n",
    "\n",
    "female_korean_athletes.head()"
   ]
  },
  {
   "cell_type": "code",
   "execution_count": null,
   "metadata": {},
   "outputs": [],
   "source": [
    "female_korean_athletes = merged[(merged['sex'] == 'Female') & (merged['country'] == 'Republic of Korea')]\n",
    "\n",
    "# Remove duplicates based on the athlete's name\n",
    "female_korean_athletes_unique = female_korean_athletes.drop_duplicates(subset=['name'])\n",
    "\n",
    "# Preprocess the 'athlete' column and extract the first names\n",
    "female_korean_athletes_unique['First Name'] = female_korean_athletes_unique['name'].apply(lambda x: str(x).split('•')[0] if pd.notnull(x) else None)\n",
    "\n",
    "# Drop rows with missing first names\n",
    "female_korean_athletes_unique.dropna(subset=['First Name'], inplace=True)\n",
    "\n",
    "# Count the occurrences of each first name\n",
    "common_first_names = female_korean_athletes_unique['First Name'].value_counts().head(3)\n",
    "\n",
    "print(\"The three most common first names of female athletes from Republic of Korea:\")\n",
    "print(common_first_names)"
   ]
  },
  {
   "cell_type": "markdown",
   "metadata": {},
   "source": [
    "Who is the tallest female athlete? Provide the name, height, country and sport."
   ]
  },
  {
   "cell_type": "code",
   "execution_count": null,
   "metadata": {},
   "outputs": [],
   "source": [
    "female_athletes = merged[(merged['sex'] == 'Female')]\n",
    "female_athletes = female_athletes.dropna(subset=['measurements'])\n",
    "\n",
    "print(female_athletes[\"measurements\"].unique())\n",
    "\n",
    "\n"
   ]
  },
  {
   "cell_type": "code",
   "execution_count": null,
   "metadata": {},
   "outputs": [],
   "source": [
    "female_athletes = merged[(merged['sex'] == 'Female')]\n",
    "female_athletes = female_athletes.dropna(subset=['measurements'])  \n",
    "\n",
    "# Filter rows containing 'cm' in the 'measurements' column\n",
    "female_athletes = female_athletes[female_athletes['measurements'].str.contains('cm')]\n",
    "\n",
    "# Extract and convert height to integer\n",
    "female_athletes['height'] = female_athletes['measurements'].str.extract('(\\d+)').astype(int)\n",
    "\n",
    "# Sort the DataFrame by height\n",
    "reduced = female_athletes[[\"name\", \"height\", \"country\", \"sport\"]].sort_values(\"height\")\n",
    "\n",
    "# Display the last 20 rows\n",
    "print(reduced.head(25))\n"
   ]
  },
  {
   "cell_type": "markdown",
   "metadata": {},
   "source": [
    "# aufgabe 5 mit api rumspielen"
   ]
  },
  {
   "cell_type": "code",
   "execution_count": null,
   "metadata": {},
   "outputs": [],
   "source": [
    "import requests\n",
    "import pandas as pd\n",
    "\n",
    "# Make the API request\n",
    "# SP.POP.TOTL for the indicator total propulation\n",
    "# format = json to get a json file, the defaut is xml wich would need a external package to process\n",
    "# date = 2016 to limit the returns only to the year in question wich is 2016\n",
    "# per_page = 5000 to list all entrys in a single api request\n",
    "\n",
    "url = \"http://api.worldbank.org/v2/country/all/indicator/SP.POP.TOTL?format=json&date=2016&per_page=5000\"\n",
    "response = requests.get(url)\n",
    "\n",
    "data = response.json()[1]"
   ]
  },
  {
   "cell_type": "code",
   "execution_count": null,
   "metadata": {},
   "outputs": [],
   "source": [
    "transformed_data = []\n",
    "\n",
    "# Iterate through the data and extract the relevant fields\n",
    "for entry in data:\n",
    "    transformed_entry = {\n",
    "        'Indicator ID': entry['indicator']['id'],\n",
    "        'Indicator Value': entry['indicator']['value'],\n",
    "        'Country ID': entry['country']['id'],\n",
    "        'Country Value': entry['country']['value'],\n",
    "        'Country ISO3 Code': entry['countryiso3code'],\n",
    "        'Date': entry['date'],\n",
    "        'Value': entry['value'],\n",
    "        'Unit': entry['unit'],\n",
    "        'Obs Status': entry['obs_status'],\n",
    "        'Decimal': entry['decimal']\n",
    "    }\n",
    "    transformed_data.append(transformed_entry)\n",
    "\n",
    "# Create a DataFrame from the transformed data\n",
    "df = pd.DataFrame(transformed_data)\n",
    "\n",
    "# Now you have a Pandas DataFrame that represents your dataset\n",
    "# You can perform various data operations and analysis with it"
   ]
  },
  {
   "cell_type": "code",
   "execution_count": null,
   "metadata": {},
   "outputs": [],
   "source": [
    "df = df[[\"Country ISO3 Code\",\"Value\"]]"
   ]
  },
  {
   "cell_type": "code",
   "execution_count": null,
   "metadata": {},
   "outputs": [],
   "source": [
    "merged2016 = merged[(merged['year'] == 2016)]\n",
    "\n",
    "\n",
    "merged2016 = merged2016.merge(df, left_on=\"country_code\", right_on=\"Country ISO3 Code\")\n"
   ]
  },
  {
   "cell_type": "code",
   "execution_count": null,
   "metadata": {},
   "outputs": [],
   "source": [
    "per_country = merged2016.groupby(['country_code','medal' ]).size()"
   ]
  },
  {
   "cell_type": "code",
   "execution_count": null,
   "metadata": {},
   "outputs": [],
   "source": [
    "per_country.index"
   ]
  }
 ],
 "metadata": {
  "kernelspec": {
   "display_name": ".venv",
   "language": "python",
   "name": "python3"
  },
  "language_info": {
   "codemirror_mode": {
    "name": "ipython",
    "version": 3
   },
   "file_extension": ".py",
   "mimetype": "text/x-python",
   "name": "python",
   "nbconvert_exporter": "python",
   "pygments_lexer": "ipython3",
   "version": "3.10.12"
  }
 },
 "nbformat": 4,
 "nbformat_minor": 2
}
