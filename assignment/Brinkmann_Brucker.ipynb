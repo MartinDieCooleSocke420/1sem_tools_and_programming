{
 "cells": [
  {
   "cell_type": "markdown",
   "metadata": {},
   "source": [
    "# Assignment for **Tools and Programming**\n",
    "\n",
    "*This Assignment was created by:*\n",
    "\n",
    "**Martin Brucker** and **Frederik Brinkmann**\n",
    "\n",
    "**Deadline:** 26.10.2023, 11:59 PM"
   ]
  },
  {
   "cell_type": "code",
   "execution_count": null,
   "metadata": {},
   "outputs": [],
   "source": [
    "import pandas as pd\n",
    "import numpy as np\n",
    "import matplotlib.pyplot as plt\n"
   ]
  },
  {
   "cell_type": "markdown",
   "metadata": {},
   "source": [
    "# 📊 Data Import and Cleaning 🧹\n",
    "\n",
    "### 📥 Import Data\n",
    "- In this section, we'll read the data and get it ready for analysis.\n",
    "\n",
    "### 🔄 Merge DataFrames\n",
    "- Merge the \"results\" and \"athletes\" DataFrames to create a cohesive dataset.\n",
    "\n",
    "### 📌 Set Athletes as the Index\n",
    "- For better data management and easier reference, we'll set the \"Athletes\" column as the index for our DataFrame.\n",
    "\n"
   ]
  },
  {
   "cell_type": "code",
   "execution_count": null,
   "metadata": {},
   "outputs": [],
   "source": [
    "# importing data from files\n",
    "results = pd.read_csv(\"data/results.csv\")\n",
    "athletes = pd.read_csv(filepath_or_buffer=\"data/athletes.txt\", sep=\";\")\n",
    "\n",
    "# merging with an inner join to merge the athlets with the results\n",
    "merged_results_athletes = pd.merge(left = athletes, right = results, how=\"inner\")\n",
    "\n",
    "# each athlete as a row of the dataframe\n",
    "merged_results_athletes.set_index(\"athlete\", inplace=True)"
   ]
  },
  {
   "cell_type": "markdown",
   "metadata": {},
   "source": [
    "# 📊 Data Analysis and Transformation\n",
    "\n",
    "In this section, we'll highlight key data analysis and transformation steps that prepare our dataset for further analysis and visualization."
   ]
  },
  {
   "cell_type": "markdown",
   "metadata": {},
   "source": [
    "## 🗂 Splitting \"Born\" and \"Died\" Columns\n",
    "\n",
    "- **Born/Died Columns**: We divided the \"Born\" column into 🎂  \"BirthDate\" and 🌍 \"BirthLocation,\" and the \"Died\" column into ⏳ \"DeathDate\" and 📍 \"DeathLocation.\""
   ]
  },
  {
   "cell_type": "code",
   "execution_count": null,
   "metadata": {},
   "outputs": [],
   "source": [
    "# Split the \"Born\" column into \"BirthDate\" and \"BirthLocation\" columns\n",
    "born_df = merged_results_athletes['born'].str.extract(r'(\\d+ [A-Za-z]+ \\d{4}) in (.*)').rename(columns={0: 'birthDate', 1: 'birthLocation'})\n",
    "\n",
    "# Split the \"Died\" column into \"DeathDate\" and \"DeathLocation\" columns\n",
    "died_df = merged_results_athletes['died'].str.extract(r'(\\d+ [A-Za-z]+ \\d{4}) in (.*)').rename(columns={0: 'deathDate', 1: 'deathLocation'})\n",
    "\n",
    "# Merge the Date and Location DataFrames with the original DataFrame\n",
    "merged_results_athletes = pd.concat([merged_results_athletes, born_df, died_df], axis=1)\n",
    "\n",
    "merged_results_athletes.drop(columns=['born', 'died'], inplace=True)"
   ]
  },
  {
   "cell_type": "markdown",
   "metadata": {},
   "source": [
    "## 📏 Handling Height and Weight Data\n",
    "\n",
    "- **Height/Weight Extraction**: Extracted numeric values from \"measurements\" for \"Height\" and \"Weight.\"\n",
    "\n",
    "- **Data Type Conversion**: Converted values to numeric data types and filled missing values (NaN) with -1.\n",
    "\n",
    "- **Merged DataFrames**: Merged \"Height\" and \"Weight\" with the original dataset."
   ]
  },
  {
   "cell_type": "code",
   "execution_count": null,
   "metadata": {},
   "outputs": [],
   "source": [
    "# Create separate DataFrames for Height and Weight\n",
    "height_df = merged_results_athletes['measurements'].str.extract(r'(\\d+ cm)').rename(columns={0: 'height'})\n",
    "weight_df = merged_results_athletes['measurements'].str.extract(r'(\\d+ kg)').rename(columns={0: 'weight'})\n",
    "\n",
    "# Convert the extracted values to numeric and fill NaN values with -1\n",
    "height_df['height'] = height_df['height'].str.extract(r'(\\d+)').astype(float)\n",
    "weight_df['weight'] = weight_df['weight'].str.extract(r'(\\d+)').astype(float)\n",
    "# Merge the Height and Weight DataFrames with the original DataFrame\n",
    "merged_results_athletes = pd.concat([merged_results_athletes, height_df, weight_df], axis=1)\n",
    "\n",
    "merged_results_athletes.drop('measurements', axis=1, inplace=True)"
   ]
  },
  {
   "cell_type": "markdown",
   "metadata": {},
   "source": [
    "## 📝 Extracting Names\n",
    "\n",
    "Split \"name\" into 👤 \"firstName\" and 📛 \"lastName\" for easier name management."
   ]
  },
  {
   "cell_type": "code",
   "execution_count": null,
   "metadata": {},
   "outputs": [],
   "source": [
    "merged_results_athletes['firstName'] = merged_results_athletes['name'].str.split('•').str[0]\n",
    "merged_results_athletes['lastName'] = merged_results_athletes['name'].str.split('•').str[-1]\n",
    "merged_results_athletes.drop(columns='name', inplace=True)"
   ]
  },
  {
   "cell_type": "markdown",
   "metadata": {},
   "source": [
    "## 📆 Converting Date Columns\n",
    "\n",
    "- **Birth Date**: Transformed \"birthDate\" into a datetime object using the format \"%d %B %Y.\" Handling unconvertible entries as \"NaT.\"\n",
    "\n",
    "- **Death Date**: Similar to \"birthDate,\" converted \"deathDate\" into a datetime object, with proper handling for unconvertible entries."
   ]
  },
  {
   "cell_type": "code",
   "execution_count": null,
   "metadata": {},
   "outputs": [],
   "source": [
    "# transform the birth date into a datetime object\n",
    "merged_results_athletes['birthDate'] = pd.to_datetime(merged_results_athletes['birthDate'], format=\"%d %B %Y\", errors='coerce')\n",
    "merged_results_athletes['deathDate'] = pd.to_datetime(merged_results_athletes['deathDate'], format=\"%d %B %Y\", errors='coerce')"
   ]
  },
  {
   "cell_type": "code",
   "execution_count": null,
   "metadata": {},
   "outputs": [],
   "source": [
    "#Quick Check\n",
    "merged_results_athletes.head()"
   ]
  },
  {
   "cell_type": "markdown",
   "metadata": {},
   "source": [
    "# Exercise 1\n",
    "\n",
    "- **Question**: Who is the most successful athlete since 2012, based on the number of gold medals won?\n"
   ]
  },
  {
   "cell_type": "code",
   "execution_count": null,
   "metadata": {},
   "outputs": [],
   "source": [
    "gold_medals = merged_results_athletes[merged_results_athletes['medal'] == 'Gold']\n",
    "gold_medal_counts = gold_medals.groupby(['firstName', 'lastName'])['medal'].count().reset_index()\n",
    "athlete_with_most_gold = gold_medal_counts[gold_medal_counts['medal'] == gold_medal_counts['medal'].max()]\n",
    "print(athlete_with_most_gold)"
   ]
  },
  {
   "cell_type": "markdown",
   "metadata": {},
   "source": [
    "- **Question**:How many different athletes have participates in the Olympic Games since 2012?"
   ]
  },
  {
   "cell_type": "code",
   "execution_count": null,
   "metadata": {},
   "outputs": [],
   "source": [
    "# checking wich athletes have participated in the year 2012 or later\n",
    "since2012 = merged_results_athletes[merged_results_athletes['year'] >= 2012]\n",
    "\n",
    "# print how many unique values are in the index\n",
    "print(f\"There are {since2012.index.nunique()} athletes that have participated since 2012.\")"
   ]
  },
  {
   "cell_type": "markdown",
   "metadata": {},
   "source": [
    "- **Question**: What are the 10 countries with the lowest ratio of female participants? Represent this information using a bar chart"
   ]
  },
  {
   "cell_type": "code",
   "execution_count": null,
   "metadata": {},
   "outputs": [],
   "source": [
    "# Returns the ammount of male and female per country\n",
    "perCountry = merged_results_athletes.groupby(['country', 'sex']).size().unstack(fill_value=0)\n",
    "# Calculate the female percantage per country :)\n",
    "perCountry['Female Percentage'] = (perCountry['Female'] / (perCountry['Female'] + perCountry['Male'])) * 100\n",
    "\n",
    "# Give out the first 10 results\n",
    "perCountry = perCountry.sort_values(\"Female Percentage\").head(10)\n",
    "\n",
    "\n",
    "# Print the top 10 Countries with Lowest Ratio of Female Participantsplt.figure(figsize=(12, 6))\n",
    "perCountry[[\"Female Percentage\"]].plot(kind='bar', color='skyblue')\n",
    "plt.title('Top 10 Countries with Lowest Ratio of Female Participants')\n",
    "plt.xlabel('Country')\n",
    "plt.ylabel('Female Ratio')\n",
    "plt.xticks(rotation=90)\n",
    "plt.tight_layout()\n",
    "plt.show()"
   ]
  },
  {
   "cell_type": "markdown",
   "metadata": {},
   "source": [
    "# Exercise 2\n",
    "\n",
    "- **Question**: What are the three most common first names among female athletes from the country 'Republic of Korea'?"
   ]
  },
  {
   "cell_type": "code",
   "execution_count": null,
   "metadata": {},
   "outputs": [],
   "source": [
    "# Select female Korean athletes\n",
    "female_korean_athletes = merged_results_athletes[(merged_results_athletes['sex'] == 'Female') & (merged_results_athletes['country'] == 'Republic of Korea')]\n",
    "\n",
    "# Drop duplicates based on the athlete's name\n",
    "female_korean_athletes_unique = female_korean_athletes[~female_korean_athletes.index.duplicated(keep='first')]\n",
    "\n",
    "# Count the occurrences of each unique first name\n",
    "common_first_names = female_korean_athletes_unique['firstName'].value_counts()\n",
    "\n",
    "# Find the most common first name\n",
    "most_common_first_name = common_first_names.idxmax()\n",
    "\n",
    "# Print the most common first name and its count\n",
    "print(\"The most common first name among female Korean athletes is:\", most_common_first_name)\n",
    "print(\"Count:\", common_first_names.head(3))\n"
   ]
  },
  {
   "cell_type": "markdown",
   "metadata": {},
   "source": [
    "- **Question**: Who is the tallest female athlete? Provide the name, height, country and sport."
   ]
  },
  {
   "cell_type": "code",
   "execution_count": null,
   "metadata": {},
   "outputs": [],
   "source": [
    "female_athletes = merged_results_athletes[(merged_results_athletes['sex'] == 'Female')]\n",
    "female_athletes = female_athletes.dropna(subset=['height'])  \n",
    "tallest_female = female_athletes.loc[female_athletes['height'].idxmax()]\n",
    "\n",
    "# Extract the desired information\n",
    "name = f\"{tallest_female['firstName']} {tallest_female['lastName']}\"\n",
    "height = tallest_female['height']\n",
    "country = tallest_female['country']\n",
    "sport = tallest_female['sport']\n",
    "\n",
    "# Print the information\n",
    "print(\"Tallest Female Participant:\")\n",
    "print(f\"Name: {name}\")\n",
    "print(f\"Height: {height}\")\n",
    "print(f\"Country: {country}\")\n",
    "print(f\"Sport: {sport}\")\n"
   ]
  },
  {
   "cell_type": "markdown",
   "metadata": {},
   "source": [
    "#### ⚠️ INFO\n",
    "\n",
    "Depending on whether you use an inner or outer join, the results may differ:\n",
    "\n",
    "- Margo Dydek is the top female participant in the dataset, standing at an impressive height of 223 cm.\n",
    "\n",
    "- However, it's important to note that she participated in the year 2000. Therefore, if you are looking to determine her country of origin, it should be based on her \"born\" country."
   ]
  },
  {
   "cell_type": "markdown",
   "metadata": {},
   "source": [
    "- **Question**: What are the 10 sports with the highest average weight of participants? Provide the sport and the\n",
    "weight."
   ]
  },
  {
   "cell_type": "code",
   "execution_count": null,
   "metadata": {},
   "outputs": [],
   "source": [
    "highest_weight = merged_results_athletes.groupby('sport')['weight'].mean().sort_values(ascending=False).head(10)\n",
    "print(highest_weight)"
   ]
  },
  {
   "cell_type": "markdown",
   "metadata": {},
   "source": [
    "- **Question**: What are the 3 sports with the largest number of participants that are severely underweight?\n",
    "Provide the sport and the number of severely underweight participants. Severe underweight is\n",
    "defined by a body-mass-index (BMI) smaller than 16, where BMI is calculate as weight/height2\n",
    "in the unit kg/m2"
   ]
  },
  {
   "cell_type": "code",
   "execution_count": null,
   "metadata": {},
   "outputs": [],
   "source": [
    "# Calculate the BMI of each athlete\n",
    "merged_results_athletes['BMI'] = merged_results_athletes['weight'] / (merged_results_athletes['height'] / 100) ** 2\n",
    "\n",
    "# Find athletes with BMI < 16\n",
    "underweight_athletes = merged_results_athletes[merged_results_athletes['BMI'] < 16]\n",
    "underweight_athletes.drop_duplicates(subset=['firstName', 'lastName'], inplace=True)\n",
    "\n",
    "\n",
    "# Count the number of athletes in each sport\n",
    "underweight_athletes_per_sport = underweight_athletes.groupby('sport').size().sort_values(ascending=False)\n",
    "\n",
    "# Print the top sport\n",
    "print(\"Sport with the most underweight athletes:\", underweight_athletes_per_sport.idxmax())\n",
    "print(\"Number of underweight athletes:\", underweight_athletes_per_sport.max())"
   ]
  },
  {
   "cell_type": "markdown",
   "metadata": {},
   "source": [
    "# Exercise 3\n",
    "\n",
    "In the following questions, we'll calculate the age of participants. Age is defined as the number of completed years at the beginning of the Olympic Games in which the athlete participates. To calculate age, we'll (1) use the athlete's date of birth and (2) consider the opening date of the Olympic Games.\n",
    "\n",
    "- **Task**: Who is the oldest athlete? Please provide the name and age.\n"
   ]
  },
  {
   "cell_type": "code",
   "execution_count": null,
   "metadata": {},
   "outputs": [],
   "source": [
    "# Calculate the age of each athlete\n",
    "merged_results_athletes['age'] = merged_results_athletes['year'] - merged_results_athletes['birthDate'].dt.year\n",
    "\n",
    "# Find the oldest athlete\n",
    "oldest_athlete = merged_results_athletes.loc[merged_results_athletes['age'].idxmax()]\n",
    "\n",
    "# Print the oldest athlete's first name, last name, and age\n",
    "print(oldest_athlete[['firstName', 'lastName', 'age']])"
   ]
  },
  {
   "cell_type": "markdown",
   "metadata": {},
   "source": [
    "- **Question**:  What are the 10 sports with the highest average age of participants? Provide the sport and the\n",
    "average age."
   ]
  },
  {
   "cell_type": "code",
   "execution_count": null,
   "metadata": {},
   "outputs": [],
   "source": [
    "# what are the 10 sports with the highest average age of athletes\n",
    "average_age_per_sport = merged_results_athletes.groupby('sport')['age'].mean().dropna()\n",
    "average_age_per_sport.sort_values(ascending=False).head(10)"
   ]
  },
  {
   "cell_type": "markdown",
   "metadata": {},
   "source": [
    "# Exercise 4\n",
    "\n",
    "- **Question**: Calculate the medal table for the Summer Olympic Games 2016 in Rio de Janeiro. Your medal table should match the official structure, including the same column names and sorting as the official table. Display the top 10 countries.\n",
    "\n",
    "- **Hint**: In team events like Basketball, all team members of the winning team receive a gold medal. However, for the medal table, it should count as only one gold medal. This logic applies to silver and bronze medals as well. You can identify team events by multiple participants winning the same medal in one event or through the presence of the \"team\" column."
   ]
  },
  {
   "cell_type": "code",
   "execution_count": null,
   "metadata": {},
   "outputs": [],
   "source": [
    "results = pd.read_csv(\"data/results.csv\")"
   ]
  },
  {
   "cell_type": "code",
   "execution_count": null,
   "metadata": {},
   "outputs": [],
   "source": [
    "# Filter the dataset to include only the 2016 Summer Olympics in Rio de Janeiro\n",
    "rio_2016_data = results[(results['year'] == 2016) & (results['season'] == 'Summer')]\n",
    "rio_2016_data.head(100)\n",
    "\n",
    "# Create a copy of the dataset to work with\n",
    "medal_table = rio_2016_data.copy()\n",
    "\n",
    "# For team events, remove duplicate rows and keep one representative row for each event\n",
    "medal_table.drop_duplicates(subset=['sport', 'discipline', 'pos', \"country\"], keep='first', inplace=True)\n",
    "\n",
    "# Create columns for gold, silver, and bronze medals with initial values of 0\n",
    "medal_table['gold'] = 0\n",
    "medal_table['silver'] = 0\n",
    "medal_table['bronze'] = 0\n",
    "\n",
    "# Assign medals based on medal positions\n",
    "medal_table.loc[medal_table['medal'] == 'Gold', 'gold'] = 1\n",
    "medal_table.loc[medal_table['medal'] == 'Silver', 'silver'] = 1\n",
    "medal_table.loc[medal_table['medal'] == 'Bronze', 'bronze'] = 1\n",
    "\n",
    "# Group the data by country and calculate the sum of gold, silver, and bronze medals\n",
    "medal_table = medal_table.groupby('country').agg({'gold': 'sum', 'silver': 'sum', 'bronze': 'sum'}).reset_index()\n",
    "\n",
    "# Calculate total medals for each country\n",
    "medal_table['total'] = medal_table['gold'] + medal_table['silver'] + medal_table['bronze']\n",
    "\n",
    "# Sort the medal table by gold, silver, and bronze medals in descending order\n",
    "medal_table.sort_values(['gold', 'silver', 'bronze'], ascending=[False, False, False], inplace=True)\n",
    "\n",
    "# Display the top 10 countries in the medal table\n",
    "top_10_countries = medal_table\n",
    "print(top_10_countries)\n"
   ]
  },
  {
   "cell_type": "code",
   "execution_count": null,
   "metadata": {},
   "outputs": [],
   "source": [
    "rio_2016_data = results[(results['year'] == 2016) & (results['season'] == 'Summer')]\n",
    "rio_2016_data.head(100)\n"
   ]
  },
  {
   "cell_type": "markdown",
   "metadata": {},
   "source": [
    "# Exercise 5\n",
    "\n",
    "- **Question**: Large countries tend to win more medals than smaller ones. Your task is to calculate a different version of the 2016 medal table that shows the number of gold, silver, and bronze medals per 1 million inhabitants. Display the top 10 countries in this new medal table.\n"
   ]
  },
  {
   "cell_type": "code",
   "execution_count": null,
   "metadata": {},
   "outputs": [],
   "source": [
    "import requests\n",
    "\n",
    "# Make the API request\n",
    "# SP.POP.TOTL for the indicator total propulation\n",
    "# format = json to get a json file, the defaut is xml wich would need a external package to process\n",
    "# date = 2016 to limit the returns only to the year in question wich is 2016\n",
    "# per_page = 5000 to list all entrys in a single api request\n",
    "\n",
    "url = \"http://api.worldbank.org/v2/country/all/indicator/SP.POP.TOTL?format=json&date=2016&per_page=5000\"\n",
    "response = requests.get(url)\n",
    "\n",
    "data = response.json()[1]"
   ]
  },
  {
   "cell_type": "code",
   "execution_count": null,
   "metadata": {},
   "outputs": [],
   "source": [
    "transformed_data = []\n",
    "\n",
    "# Iterate through the data and extract the relevant fields\n",
    "for entry in data:\n",
    "    transformed_entry = {\n",
    "        'Indicator ID': entry['indicator']['id'],\n",
    "        'Indicator Value': entry['indicator']['value'],\n",
    "        'Country ID': entry['country']['id'],\n",
    "        'Country Value': entry['country']['value'],\n",
    "        'Country ISO3 Code': entry['countryiso3code'],\n",
    "        'Date': entry['date'],\n",
    "        'Value': entry['value'],\n",
    "        'Unit': entry['unit'],\n",
    "        'Obs Status': entry['obs_status'],\n",
    "        'Decimal': entry['decimal']\n",
    "    }\n",
    "    transformed_data.append(transformed_entry)\n",
    "\n",
    "# Create a DataFrame from the transformed data\n",
    "df = pd.DataFrame(transformed_data)\n",
    "\n",
    "# Now you have a Pandas DataFrame that represents your dataset\n",
    "# You can perform various data operations and analysis with it"
   ]
  },
  {
   "cell_type": "markdown",
   "metadata": {},
   "source": [
    "#### Background for Exercise 5\n",
    "\n",
    "To align our dataset with the format of a Wikipedia page, similar to Exercise 4, we repeated the same data preparation steps in this task. This time, we added the country codes to facilitate the task's completion. As a result, the code in this section may appear repetitive due to the necessary data adjustments."
   ]
  },
  {
   "cell_type": "code",
   "execution_count": null,
   "metadata": {},
   "outputs": [],
   "source": [
    "# Filter the dataset to include only the 2016 Summer Olympics in Rio de Janeiro\n",
    "rio_2016_data = results[(results['year'] == 2016) & (results['season'] == 'Summer')]\n",
    "\n",
    "# Create a copy of the dataset to work with\n",
    "medal_table = rio_2016_data.copy()\n",
    "\n",
    "# For team events, remove duplicate rows and keep one representative row for each event\n",
    "medal_table.drop_duplicates(subset=['sport', 'discipline', 'pos', \"country\"], keep='first', inplace=True)\n",
    "\n",
    "# Create columns for gold, silver, and bronze medals with initial values of 0\n",
    "medal_table['gold'] = 0\n",
    "medal_table['silver'] = 0\n",
    "medal_table['bronze'] = 0\n",
    "\n",
    "# Assign medals based on medal positions\n",
    "medal_table.loc[medal_table['medal'] == 'Gold', 'gold'] = 1\n",
    "medal_table.loc[medal_table['medal'] == 'Silver', 'silver'] = 1\n",
    "medal_table.loc[medal_table['medal'] == 'Bronze', 'bronze'] = 1\n",
    "\n",
    "# Group the data by country and country_code and calculate the sum of gold, silver, and bronze medals\n",
    "medal_table = medal_table.groupby(['country', 'country_code']).agg({'gold': 'sum', 'silver': 'sum', 'bronze': 'sum'}).reset_index()\n",
    "\n",
    "# Calculate total medals for each country\n",
    "medal_table['total'] = medal_table['gold'] + medal_table['silver'] + medal_table['bronze']\n",
    "\n",
    "# Sort the medal table by gold, silver, and bronze medals in descending order\n",
    "medal_table.sort_values(['gold', 'silver', 'bronze'], ascending=[False, False, False], inplace=True)\n",
    "\n",
    "df = df[[\"Country ISO3 Code\",\"Value\"]]\n",
    "\n",
    "merged2016 = medal_table.merge(df, left_on=\"country_code\", right_on=\"Country ISO3 Code\")\n",
    "\n",
    "merged2016['Gold Medals per Million Inhabitants'] = (merged2016['gold'] / (merged2016['Value'] / 1000000)).round(2)\n",
    "merged2016['Silver Medals per Million Inhabitants'] = (merged2016['silver'] / (merged2016['Value'] / 1000000)).round(2)\n",
    "merged2016['Bronze Medals per Million Inhabitants'] = (merged2016['bronze'] / (merged2016['Value'] / 1000000)).round(2)\n",
    "merged2016['Total Medals per Million Inhabitants'] = (merged2016['total'] / (merged2016['Value'] / 1000000)).round(2)\n",
    "\n",
    "sorted_data = merged2016.sort_values('Gold Medals per Million Inhabitants', ascending=False)\n",
    "\n",
    "merged2016.sort_values('Total Medals per Million Inhabitants', ascending=False).head(10).drop(columns=['Country ISO3 Code', 'country_code'])\n"
   ]
  },
  {
   "cell_type": "code",
   "execution_count": null,
   "metadata": {},
   "outputs": [],
   "source": [
    "merged2016['Gold Medals per Million Inhabitants'] = (merged2016['gold'] / (merged2016['Value'] / 1000000)).round(2)\n",
    "merged2016['Silver Medals per Million Inhabitants'] = (merged2016['silver'] / (merged2016['Value'] / 1000000)).round(2)\n",
    "merged2016['Bronze Medals per Million Inhabitants'] = (merged2016['bronze'] / (merged2016['Value'] / 1000000)).round(2)\n",
    "merged2016['Total Medals per Million Inhabitants'] = (merged2016['total'] / (merged2016['Value'] / 1000000)).round(2)\n",
    "\n",
    "sorted_data = merged2016.sort_values('Gold Medals per Million Inhabitants', ascending=False)"
   ]
  },
  {
   "cell_type": "code",
   "execution_count": null,
   "metadata": {},
   "outputs": [],
   "source": [
    "merged2016.sort_values('Total Medals per Million Inhabitants', \n",
    "                       ascending=False).head(10).drop(columns=['Country ISO3 Code', 'country_code'])"
   ]
  }
 ],
 "metadata": {
  "kernelspec": {
   "display_name": ".venv",
   "language": "python",
   "name": "python3"
  },
  "language_info": {
   "codemirror_mode": {
    "name": "ipython",
    "version": 3
   },
   "file_extension": ".py",
   "mimetype": "text/x-python",
   "name": "python",
   "nbconvert_exporter": "python",
   "pygments_lexer": "ipython3",
   "version": "3.12.0"
  }
 },
 "nbformat": 4,
 "nbformat_minor": 2
}
